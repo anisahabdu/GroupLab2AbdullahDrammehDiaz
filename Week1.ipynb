{
  "nbformat": 4,
  "nbformat_minor": 0,
  "metadata": {
    "colab": {
      "name": "Copy of Week1.ipynb",
      "private_outputs": true,
      "provenance": [],
      "collapsed_sections": [],
      "include_colab_link": true
    },
    "kernelspec": {
      "name": "python3",
      "display_name": "Python 3"
    }
  },
  "cells": [
    {
      "cell_type": "markdown",
      "metadata": {
        "id": "view-in-github",
        "colab_type": "text"
      },
      "source": [
        "<a href=\"https://colab.research.google.com/github/anisahabdu/GroupLab2AbdullahDrammehDiaz/blob/master/Week1.ipynb\" target=\"_parent\"><img src=\"https://colab.research.google.com/assets/colab-badge.svg\" alt=\"Open In Colab\"/></a>"
      ]
    },
    {
      "cell_type": "markdown",
      "metadata": {
        "id": "7yiqcKoEDvYr"
      },
      "source": [
        "Week 1\n",
        "\n",
        "!javac Example.java\n",
        "!java Example\n",
        "\n",
        "https://www.w3schools.com/java/java_modifiers.asp\n",
        "\n",
        "public - a Java keyword which declares a member's access as public. Public members are visible to all other classes.\n",
        "\n",
        "The main method statment is accessible to the all other classes as well. \n",
        "\n",
        "static - it does not change, for the java interpretter to easily access/find it. In order for the main function to be called, static is needed. \n",
        "\n",
        "void - method has no return value; will not return a value.\n",
        "\n",
        "String [] args -  args contains the command-line arguments passed to the Java program upon invocation."
      ]
    },
    {
      "cell_type": "code",
      "metadata": {
        "id": "y3L6609F0yPH"
      },
      "source": [
        "%%writefile Example.java\r\n",
        "\r\n",
        "public class Example { // The name of the class is example. What does it mean that it's public?\r\n",
        "\r\n",
        "  public static void main(String [] args) { // Here's our main statement. Again, it is public, what does that mean? What about static & void? What's with the String [] args?\r\n",
        "\r\n",
        "    String name; // We declare the variable name as a string\r\n",
        "\r\n",
        "    name = \"nicole\"; // We assign a name to it\r\n",
        "\r\n",
        "    System.out.println(\"My name is \" + name); // We print \"My name is \" (note the space between the quotes and the is) and then add the var. What does this do?\r\n",
        "  }\r\n",
        "\r\n",
        "}"
      ],
      "execution_count": null,
      "outputs": []
    },
    {
      "cell_type": "code",
      "metadata": {
        "id": "C1iwTduXEVFm"
      },
      "source": [
        "%%writefile MyNotes.java\n",
        "public class MyNotes {\n",
        "    public static void main (String[] args) {\n",
        "        System.out.println (\"My notes have working code in them!\");\n",
        "    }\n",
        "}"
      ],
      "execution_count": null,
      "outputs": []
    },
    {
      "cell_type": "code",
      "metadata": {
        "id": "jRzZxWlTEgN7"
      },
      "source": [
        "!javac MyNotes.java\n",
        "!java MyNotes"
      ],
      "execution_count": null,
      "outputs": []
    },
    {
      "cell_type": "markdown",
      "metadata": {
        "id": "CER-3tJ3Dotl"
      },
      "source": [
        "You only need to run the code below if you want to use Java 12. You won't need the special new properties of Java 12 for most of the class, but be aware that our GitHub Classroom tests run on Java 12."
      ]
    },
    {
      "cell_type": "code",
      "metadata": {
        "id": "jT9yfcqCDeC5"
      },
      "source": [
        "!sudo add-apt-repository ppa:openjdk-r/ppa -y\n",
        "!sudo apt-get update -y -q\n",
        "!sudo apt-get install openjdk-12-jre-headless -y -q\n",
        "!echo \"0\" | sudo update-alternatives --config java\n",
        "!java -version"
      ],
      "execution_count": null,
      "outputs": []
    },
    {
      "cell_type": "code",
      "metadata": {
        "id": "L99bs45YvwZm"
      },
      "source": [
        "%%writefile LoopThroughArgs.java\r\n",
        "public class LoopThroughArgs {\r\n",
        "    public static void main(String[] args) {\r\n",
        "        for(int i = 0; i < args.length; i++) {\r\n",
        "            System.out.println(args[i]);\r\n",
        "        }\r\n",
        "    }\r\n",
        "}"
      ],
      "execution_count": null,
      "outputs": []
    },
    {
      "cell_type": "code",
      "metadata": {
        "id": "RtPP8qr-v78a"
      },
      "source": [
        "!javac LoopThroughArgs.java\r\n",
        "!java LoopThroughArgs one two three four ME"
      ],
      "execution_count": null,
      "outputs": []
    }
  ]
}